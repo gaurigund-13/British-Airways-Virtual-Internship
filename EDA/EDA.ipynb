{
 "cells": [
  {
   "cell_type": "markdown",
   "metadata": {},
   "source": [
    "# Exploratory Data Analysis"
   ]
  },
  {
   "cell_type": "code",
   "execution_count": 19,
   "metadata": {},
   "outputs": [],
   "source": [
    "import pandas as pd\n",
    "import numpy as np \n",
    "import os\n",
    "import matplotlib.pyplot as plt \n",
    "%matplotlib inline\n",
    "import seaborn as sns\n",
    "import plotly.express as px \n",
    "import datetime as dt \n",
    "from wordcloud import WordCloud, STOPWORDS"
   ]
  },
  {
   "cell_type": "code",
   "execution_count": 2,
   "metadata": {},
   "outputs": [],
   "source": [
    "cwd = os.getcwd()\n",
    "df = pd.read_csv(cwd+\"/cleaned-BA-reviews.csv\", index_col=0)"
   ]
  },
  {
   "cell_type": "code",
   "execution_count": 3,
   "metadata": {},
   "outputs": [
    {
     "data": {
      "text/html": [
       "<div>\n",
       "<style scoped>\n",
       "    .dataframe tbody tr th:only-of-type {\n",
       "        vertical-align: middle;\n",
       "    }\n",
       "\n",
       "    .dataframe tbody tr th {\n",
       "        vertical-align: top;\n",
       "    }\n",
       "\n",
       "    .dataframe thead th {\n",
       "        text-align: right;\n",
       "    }\n",
       "</style>\n",
       "<table border=\"1\" class=\"dataframe\">\n",
       "  <thead>\n",
       "    <tr style=\"text-align: right;\">\n",
       "      <th></th>\n",
       "      <th>reviews</th>\n",
       "      <th>stars</th>\n",
       "      <th>date</th>\n",
       "      <th>country</th>\n",
       "      <th>verified</th>\n",
       "      <th>corpus</th>\n",
       "    </tr>\n",
       "  </thead>\n",
       "  <tbody>\n",
       "    <tr>\n",
       "      <th>0</th>\n",
       "      <td>✅ Trip Verified | Not a great experience. I co...</td>\n",
       "      <td>5.0</td>\n",
       "      <td>2024-01-18</td>\n",
       "      <td>United Kingdom</td>\n",
       "      <td>True</td>\n",
       "      <td>great experience could check online two separa...</td>\n",
       "    </tr>\n",
       "    <tr>\n",
       "      <th>1</th>\n",
       "      <td>Not Verified | I was excited to fly BA as I'd ...</td>\n",
       "      <td>3.0</td>\n",
       "      <td>2024-01-18</td>\n",
       "      <td>United Kingdom</td>\n",
       "      <td>False</td>\n",
       "      <td>verified excited fly ba travelled long haul yr...</td>\n",
       "    </tr>\n",
       "    <tr>\n",
       "      <th>2</th>\n",
       "      <td>Not Verified |  I just want to warn everyone o...</td>\n",
       "      <td>2.0</td>\n",
       "      <td>2024-01-17</td>\n",
       "      <td>Germany</td>\n",
       "      <td>False</td>\n",
       "      <td>verified want warn everyone worst customer ser...</td>\n",
       "    </tr>\n",
       "    <tr>\n",
       "      <th>3</th>\n",
       "      <td>Not Verified | Paid for business class travell...</td>\n",
       "      <td>1.0</td>\n",
       "      <td>2024-01-16</td>\n",
       "      <td>United Kingdom</td>\n",
       "      <td>False</td>\n",
       "      <td>verified paid business class travelling cairo ...</td>\n",
       "    </tr>\n",
       "    <tr>\n",
       "      <th>4</th>\n",
       "      <td>✅ Trip Verified |  The plane was extremely dir...</td>\n",
       "      <td>1.0</td>\n",
       "      <td>2024-01-15</td>\n",
       "      <td>Ireland</td>\n",
       "      <td>True</td>\n",
       "      <td>plane extremely dirty chocolate smudged mine c...</td>\n",
       "    </tr>\n",
       "  </tbody>\n",
       "</table>\n",
       "</div>"
      ],
      "text/plain": [
       "                                             reviews  stars        date  \\\n",
       "0  ✅ Trip Verified | Not a great experience. I co...    5.0  2024-01-18   \n",
       "1  Not Verified | I was excited to fly BA as I'd ...    3.0  2024-01-18   \n",
       "2  Not Verified |  I just want to warn everyone o...    2.0  2024-01-17   \n",
       "3  Not Verified | Paid for business class travell...    1.0  2024-01-16   \n",
       "4  ✅ Trip Verified |  The plane was extremely dir...    1.0  2024-01-15   \n",
       "\n",
       "          country  verified                                             corpus  \n",
       "0  United Kingdom      True  great experience could check online two separa...  \n",
       "1  United Kingdom     False  verified excited fly ba travelled long haul yr...  \n",
       "2         Germany     False  verified want warn everyone worst customer ser...  \n",
       "3  United Kingdom     False  verified paid business class travelling cairo ...  \n",
       "4         Ireland      True  plane extremely dirty chocolate smudged mine c...  "
      ]
     },
     "execution_count": 3,
     "metadata": {},
     "output_type": "execute_result"
    }
   ],
   "source": [
    "df.head()"
   ]
  },
  {
   "cell_type": "markdown",
   "metadata": {},
   "source": [
    "### What is the average overall rating given for British Airways?"
   ]
  },
  {
   "cell_type": "code",
   "execution_count": 4,
   "metadata": {},
   "outputs": [
    {
     "data": {
      "text/plain": [
       "4.626609442060086"
      ]
     },
     "execution_count": 4,
     "metadata": {},
     "output_type": "execute_result"
    }
   ],
   "source": [
    "avg_rate = df.stars.mean()\n",
    "avg_rate"
   ]
  },
  {
   "cell_type": "markdown",
   "metadata": {},
   "source": [
    "### What is the total counts for each ratings?"
   ]
  },
  {
   "cell_type": "code",
   "execution_count": 5,
   "metadata": {},
   "outputs": [
    {
     "data": {
      "text/plain": [
       "Text(0.5, 1.0, 'Counts for each ratings')"
      ]
     },
     "execution_count": 5,
     "metadata": {},
     "output_type": "execute_result"
    },
    {
     "data": {
      "image/png": "[encoded data removed]",
      "text/plain": [
       "<Figure size 640x480 with 1 Axes>"
      ]
     },
     "metadata": {},
     "output_type": "display_data"
    }
   ],
   "source": [
    "df.stars.value_counts().plot(kind='bar')\n",
    "plt.xlabel('Ratings')\n",
    "plt.ylabel('Total Number of reviews with that rating')\n",
    "plt.title('Counts for each ratings')"
   ]
  },
  {
   "cell_type": "code",
   "execution_count": 7,
   "metadata": {},
   "outputs": [
    {
     "name": "stdout",
     "output_type": "stream",
     "text": [
      "70 unique countries\n"
     ]
    }
   ],
   "source": [
    "# Unique countries BA recieved the reviews from\n",
    "\n",
    "print(f\"{len(df.country.unique())} unique countries\")"
   ]
  },
  {
   "cell_type": "markdown",
   "metadata": {},
   "source": [
    "### Which country most reviews comes from?"
   ]
  },
  {
   "cell_type": "code",
   "execution_count": 8,
   "metadata": {},
   "outputs": [],
   "source": [
    "df_country_review = pd.DataFrame(df.country.value_counts().head()).reset_index()"
   ]
  },
  {
   "cell_type": "code",
   "execution_count": 9,
   "metadata": {},
   "outputs": [],
   "source": [
    "df_country_review.rename(columns={'total_reviews':'country',\n",
    "                                  'count':'total_reviews'}, inplace=True)"
   ]
  },
  {
   "cell_type": "code",
   "execution_count": 10,
   "metadata": {},
   "outputs": [
    {
     "name": "stdout",
     "output_type": "stream",
     "text": [
      "Index(['country', 'total_reviews'], dtype='object')\n"
     ]
    }
   ],
   "source": [
    "print(df_country_review.columns)\n"
   ]
  },
  {
   "cell_type": "code",
   "execution_count": 11,
   "metadata": {},
   "outputs": [
    {
     "data": {
      "text/plain": [
       "Text(0.5, 1.0, 'Maximum number of review by country')"
      ]
     },
     "execution_count": 11,
     "metadata": {},
     "output_type": "execute_result"
    },
    {
     "data": {
      "image/png": "[encoded data removed]",
      "text/plain": [
       "<Figure size 640x480 with 1 Axes>"
      ]
     },
     "metadata": {},
     "output_type": "display_data"
    }
   ],
   "source": [
    "df_country_review.plot(kind='bar', x='country')\n",
    "plt.title('Maximum number of review by country')"
   ]
  },
  {
   "cell_type": "code",
   "execution_count": 12,
   "metadata": {},
   "outputs": [
    {
     "name": "stderr",
     "output_type": "stream",
     "text": [
      "[nltk_data] Downloading package punkt to\n",
      "[nltk_data]     C:\\Users\\user5\\AppData\\Roaming\\nltk_data...\n",
      "[nltk_data]   Package punkt is already up-to-date!\n",
      "[nltk_data] Downloading package stopwords to\n",
      "[nltk_data]     C:\\Users\\user5\\AppData\\Roaming\\nltk_data...\n",
      "[nltk_data]   Package stopwords is already up-to-date!\n",
      "[nltk_data] Downloading package wordnet to\n",
      "[nltk_data]     C:\\Users\\user5\\AppData\\Roaming\\nltk_data...\n",
      "[nltk_data]   Package wordnet is already up-to-date!\n"
     ]
    }
   ],
   "source": [
    "import nltk\n",
    "\n",
    "\"\"\"This punkt tokenizer divides a text into a list of sentences by using an unsupervised algorithm to build a model for abbreviation words, \n",
    "collocations, and words that start sentences. \"\"\"\n",
    "\n",
    "nltk.download('punkt')\n",
    "from nltk.tokenize import word_tokenize\n",
    "from nltk import pos_tag\n",
    "nltk.download('stopwords')\n",
    "from nltk.corpus import stopwords\n",
    "nltk.download('wordnet')\n",
    "from nltk.corpus import wordnet"
   ]
  },
  {
   "cell_type": "code",
   "execution_count": 15,
   "metadata": {},
   "outputs": [
    {
     "name": "stderr",
     "output_type": "stream",
     "text": [
      "[nltk_data] Downloading package omw-1.4 to\n",
      "[nltk_data]     C:\\Users\\user5\\AppData\\Roaming\\nltk_data...\n",
      "[nltk_data]   Package omw-1.4 is already up-to-date!\n",
      "[nltk_data] Downloading package averaged_perceptron_tagger to\n",
      "[nltk_data]     C:\\Users\\user5\\AppData\\Roaming\\nltk_data...\n",
      "[nltk_data]   Package averaged_perceptron_tagger is already up-to-\n",
      "[nltk_data]       date!\n"
     ]
    },
    {
     "data": {
      "text/html": [
       "<div>\n",
       "<style scoped>\n",
       "    .dataframe tbody tr th:only-of-type {\n",
       "        vertical-align: middle;\n",
       "    }\n",
       "\n",
       "    .dataframe tbody tr th {\n",
       "        vertical-align: top;\n",
       "    }\n",
       "\n",
       "    .dataframe thead th {\n",
       "        text-align: right;\n",
       "    }\n",
       "</style>\n",
       "<table border=\"1\" class=\"dataframe\">\n",
       "  <thead>\n",
       "    <tr style=\"text-align: right;\">\n",
       "      <th></th>\n",
       "      <th>reviews</th>\n",
       "      <th>stars</th>\n",
       "      <th>date</th>\n",
       "      <th>country</th>\n",
       "      <th>verified</th>\n",
       "      <th>corpus</th>\n",
       "      <th>POS tagged</th>\n",
       "    </tr>\n",
       "  </thead>\n",
       "  <tbody>\n",
       "    <tr>\n",
       "      <th>0</th>\n",
       "      <td>✅ Trip Verified | Not a great experience. I co...</td>\n",
       "      <td>5.0</td>\n",
       "      <td>2024-01-18</td>\n",
       "      <td>United Kingdom</td>\n",
       "      <td>True</td>\n",
       "      <td>great experience could check online two separa...</td>\n",
       "      <td>[(✅, a), (Trip, n), (Verified, n), (|, n), (gr...</td>\n",
       "    </tr>\n",
       "    <tr>\n",
       "      <th>1</th>\n",
       "      <td>Not Verified | I was excited to fly BA as I'd ...</td>\n",
       "      <td>3.0</td>\n",
       "      <td>2024-01-18</td>\n",
       "      <td>United Kingdom</td>\n",
       "      <td>False</td>\n",
       "      <td>verified excited fly ba travelled long haul yr...</td>\n",
       "      <td>[(Verified, n), (|, n), (excited, v), (fly, v)...</td>\n",
       "    </tr>\n",
       "    <tr>\n",
       "      <th>2</th>\n",
       "      <td>Not Verified |  I just want to warn everyone o...</td>\n",
       "      <td>2.0</td>\n",
       "      <td>2024-01-17</td>\n",
       "      <td>Germany</td>\n",
       "      <td>False</td>\n",
       "      <td>verified want warn everyone worst customer ser...</td>\n",
       "      <td>[(Verified, n), (|, n), (want, v), (warn, v), ...</td>\n",
       "    </tr>\n",
       "    <tr>\n",
       "      <th>3</th>\n",
       "      <td>Not Verified | Paid for business class travell...</td>\n",
       "      <td>1.0</td>\n",
       "      <td>2024-01-16</td>\n",
       "      <td>United Kingdom</td>\n",
       "      <td>False</td>\n",
       "      <td>verified paid business class travelling cairo ...</td>\n",
       "      <td>[(Verified, n), (|, n), (Paid, n), (business, ...</td>\n",
       "    </tr>\n",
       "    <tr>\n",
       "      <th>4</th>\n",
       "      <td>✅ Trip Verified |  The plane was extremely dir...</td>\n",
       "      <td>1.0</td>\n",
       "      <td>2024-01-15</td>\n",
       "      <td>Ireland</td>\n",
       "      <td>True</td>\n",
       "      <td>plane extremely dirty chocolate smudged mine c...</td>\n",
       "      <td>[(✅, a), (Trip, n), (Verified, n), (|, v), (pl...</td>\n",
       "    </tr>\n",
       "  </tbody>\n",
       "</table>\n",
       "</div>"
      ],
      "text/plain": [
       "                                             reviews  stars        date  \\\n",
       "0  ✅ Trip Verified | Not a great experience. I co...    5.0  2024-01-18   \n",
       "1  Not Verified | I was excited to fly BA as I'd ...    3.0  2024-01-18   \n",
       "2  Not Verified |  I just want to warn everyone o...    2.0  2024-01-17   \n",
       "3  Not Verified | Paid for business class travell...    1.0  2024-01-16   \n",
       "4  ✅ Trip Verified |  The plane was extremely dir...    1.0  2024-01-15   \n",
       "\n",
       "          country  verified  \\\n",
       "0  United Kingdom      True   \n",
       "1  United Kingdom     False   \n",
       "2         Germany     False   \n",
       "3  United Kingdom     False   \n",
       "4         Ireland      True   \n",
       "\n",
       "                                              corpus  \\\n",
       "0  great experience could check online two separa...   \n",
       "1  verified excited fly ba travelled long haul yr...   \n",
       "2  verified want warn everyone worst customer ser...   \n",
       "3  verified paid business class travelling cairo ...   \n",
       "4  plane extremely dirty chocolate smudged mine c...   \n",
       "\n",
       "                                          POS tagged  \n",
       "0  [(✅, a), (Trip, n), (Verified, n), (|, n), (gr...  \n",
       "1  [(Verified, n), (|, n), (excited, v), (fly, v)...  \n",
       "2  [(Verified, n), (|, n), (want, v), (warn, v), ...  \n",
       "3  [(Verified, n), (|, n), (Paid, n), (business, ...  \n",
       "4  [(✅, a), (Trip, n), (Verified, n), (|, v), (pl...  "
      ]
     },
     "execution_count": 15,
     "metadata": {},
     "output_type": "execute_result"
    }
   ],
   "source": [
    "\n",
    "nltk.download('omw-1.4')\n",
    "nltk.download('averaged_perceptron_tagger')\n",
    "\n",
    "# POS tagger dictionary\n",
    "pos_dict = {'J':wordnet.ADJ, 'V':wordnet.VERB, 'N':wordnet.NOUN, 'R':wordnet.ADV}\n",
    "def token_stop_pos(text):\n",
    "    tags = pos_tag(word_tokenize(text))\n",
    "    #print(tags)\n",
    "    newlist = []\n",
    "    for word, tag in tags:\n",
    "        if word.lower() not in set(stopwords.words('english')):\n",
    "          newlist.append(tuple([word, pos_dict.get(tag[0])]))\n",
    "          #print(tag[0])\n",
    "          #print(pos_dict.get(tag[0]))\n",
    "    return newlist \n",
    "\n",
    "df['POS tagged'] = df['reviews'].apply(token_stop_pos)\n",
    "df.head()"
   ]
  },
  {
   "cell_type": "code",
   "execution_count": 16,
   "metadata": {},
   "outputs": [
    {
     "data": {
      "text/html": [
       "<div>\n",
       "<style scoped>\n",
       "    .dataframe tbody tr th:only-of-type {\n",
       "        vertical-align: middle;\n",
       "    }\n",
       "\n",
       "    .dataframe tbody tr th {\n",
       "        vertical-align: top;\n",
       "    }\n",
       "\n",
       "    .dataframe thead th {\n",
       "        text-align: right;\n",
       "    }\n",
       "</style>\n",
       "<table border=\"1\" class=\"dataframe\">\n",
       "  <thead>\n",
       "    <tr style=\"text-align: right;\">\n",
       "      <th></th>\n",
       "      <th>reviews</th>\n",
       "      <th>stars</th>\n",
       "      <th>date</th>\n",
       "      <th>country</th>\n",
       "      <th>verified</th>\n",
       "      <th>corpus</th>\n",
       "      <th>POS tagged</th>\n",
       "      <th>Lemma</th>\n",
       "    </tr>\n",
       "  </thead>\n",
       "  <tbody>\n",
       "    <tr>\n",
       "      <th>0</th>\n",
       "      <td>✅ Trip Verified | Not a great experience. I co...</td>\n",
       "      <td>5.0</td>\n",
       "      <td>2024-01-18</td>\n",
       "      <td>United Kingdom</td>\n",
       "      <td>True</td>\n",
       "      <td>great experience could check online two separa...</td>\n",
       "      <td>[(✅, a), (Trip, n), (Verified, n), (|, n), (gr...</td>\n",
       "      <td>✅ Trip Verified | great experience . could c...</td>\n",
       "    </tr>\n",
       "    <tr>\n",
       "      <th>1</th>\n",
       "      <td>Not Verified | I was excited to fly BA as I'd ...</td>\n",
       "      <td>3.0</td>\n",
       "      <td>2024-01-18</td>\n",
       "      <td>United Kingdom</td>\n",
       "      <td>False</td>\n",
       "      <td>verified excited fly ba travelled long haul yr...</td>\n",
       "      <td>[(Verified, n), (|, n), (excited, v), (fly, v)...</td>\n",
       "      <td>Verified | excite fly BA 'd travel long haul...</td>\n",
       "    </tr>\n",
       "    <tr>\n",
       "      <th>2</th>\n",
       "      <td>Not Verified |  I just want to warn everyone o...</td>\n",
       "      <td>2.0</td>\n",
       "      <td>2024-01-17</td>\n",
       "      <td>Germany</td>\n",
       "      <td>False</td>\n",
       "      <td>verified want warn everyone worst customer ser...</td>\n",
       "      <td>[(Verified, n), (|, n), (want, v), (warn, v), ...</td>\n",
       "      <td>Verified | want warn everyone bad customer s...</td>\n",
       "    </tr>\n",
       "    <tr>\n",
       "      <th>3</th>\n",
       "      <td>Not Verified | Paid for business class travell...</td>\n",
       "      <td>1.0</td>\n",
       "      <td>2024-01-16</td>\n",
       "      <td>United Kingdom</td>\n",
       "      <td>False</td>\n",
       "      <td>verified paid business class travelling cairo ...</td>\n",
       "      <td>[(Verified, n), (|, n), (Paid, n), (business, ...</td>\n",
       "      <td>Verified | Paid business class travel Cairo ...</td>\n",
       "    </tr>\n",
       "    <tr>\n",
       "      <th>4</th>\n",
       "      <td>✅ Trip Verified |  The plane was extremely dir...</td>\n",
       "      <td>1.0</td>\n",
       "      <td>2024-01-15</td>\n",
       "      <td>Ireland</td>\n",
       "      <td>True</td>\n",
       "      <td>plane extremely dirty chocolate smudged mine c...</td>\n",
       "      <td>[(✅, a), (Trip, n), (Verified, n), (|, v), (pl...</td>\n",
       "      <td>✅ Trip Verified | plane extremely dirty choc...</td>\n",
       "    </tr>\n",
       "  </tbody>\n",
       "</table>\n",
       "</div>"
      ],
      "text/plain": [
       "                                             reviews  stars        date  \\\n",
       "0  ✅ Trip Verified | Not a great experience. I co...    5.0  2024-01-18   \n",
       "1  Not Verified | I was excited to fly BA as I'd ...    3.0  2024-01-18   \n",
       "2  Not Verified |  I just want to warn everyone o...    2.0  2024-01-17   \n",
       "3  Not Verified | Paid for business class travell...    1.0  2024-01-16   \n",
       "4  ✅ Trip Verified |  The plane was extremely dir...    1.0  2024-01-15   \n",
       "\n",
       "          country  verified  \\\n",
       "0  United Kingdom      True   \n",
       "1  United Kingdom     False   \n",
       "2         Germany     False   \n",
       "3  United Kingdom     False   \n",
       "4         Ireland      True   \n",
       "\n",
       "                                              corpus  \\\n",
       "0  great experience could check online two separa...   \n",
       "1  verified excited fly ba travelled long haul yr...   \n",
       "2  verified want warn everyone worst customer ser...   \n",
       "3  verified paid business class travelling cairo ...   \n",
       "4  plane extremely dirty chocolate smudged mine c...   \n",
       "\n",
       "                                          POS tagged  \\\n",
       "0  [(✅, a), (Trip, n), (Verified, n), (|, n), (gr...   \n",
       "1  [(Verified, n), (|, n), (excited, v), (fly, v)...   \n",
       "2  [(Verified, n), (|, n), (want, v), (warn, v), ...   \n",
       "3  [(Verified, n), (|, n), (Paid, n), (business, ...   \n",
       "4  [(✅, a), (Trip, n), (Verified, n), (|, v), (pl...   \n",
       "\n",
       "                                               Lemma  \n",
       "0    ✅ Trip Verified | great experience . could c...  \n",
       "1    Verified | excite fly BA 'd travel long haul...  \n",
       "2    Verified | want warn everyone bad customer s...  \n",
       "3    Verified | Paid business class travel Cairo ...  \n",
       "4    ✅ Trip Verified | plane extremely dirty choc...  "
      ]
     },
     "execution_count": 16,
     "metadata": {},
     "output_type": "execute_result"
    }
   ],
   "source": [
    "# Obtaining the stem words – Lemmatization\n",
    "\n",
    "from nltk.stem import WordNetLemmatizer\n",
    "wordnet_lemmatizer = WordNetLemmatizer()\n",
    "def lemmatize(pos_data):\n",
    "    lemma_rew = \" \"\n",
    "    for word, pos in pos_data:\n",
    "     if not pos:\n",
    "        lemma = word\n",
    "        lemma_rew = lemma_rew + \" \" + lemma\n",
    "     else:\n",
    "        lemma = wordnet_lemmatizer.lemmatize(word, pos=pos)\n",
    "        lemma_rew = lemma_rew + \" \" + lemma\n",
    "    return lemma_rew\n",
    "\n",
    "df['Lemma'] = df['POS tagged'].apply(lemmatize)\n",
    "df.head()"
   ]
  },
  {
   "cell_type": "markdown",
   "metadata": {},
   "source": [
    "### Sentiment Analysis using VADER"
   ]
  },
  {
   "cell_type": "code",
   "execution_count": null,
   "metadata": {},
   "outputs": [
    {
     "name": "stdout",
     "output_type": "stream",
     "text": [
      "Requirement already satisfied: vaderSentiment in c:\\users\\user5\\appdata\\local\\programs\\python\\python311\\lib\\site-packages (3.3.2)\n",
      "Requirement already satisfied: requests in c:\\users\\user5\\appdata\\local\\programs\\python\\python311\\lib\\site-packages (from vaderSentiment) (2.28.2)\n",
      "Requirement already satisfied: charset-normalizer<4,>=2 in c:\\users\\user5\\appdata\\local\\programs\\python\\python311\\lib\\site-packages (from requests->vaderSentiment) (3.1.0)\n",
      "Requirement already satisfied: idna<4,>=2.5 in c:\\users\\user5\\appdata\\local\\programs\\python\\python311\\lib\\site-packages (from requests->vaderSentiment) (3.4)\n",
      "Requirement already satisfied: urllib3<1.27,>=1.21.1 in c:\\users\\user5\\appdata\\local\\programs\\python\\python311\\lib\\site-packages (from requests->vaderSentiment) (1.26.15)\n",
      "Requirement already satisfied: certifi>=2017.4.17 in c:\\users\\user5\\appdata\\local\\programs\\python\\python311\\lib\\site-packages (from requests->vaderSentiment) (2022.12.7)\n"
     ]
    },
    {
     "name": "stderr",
     "output_type": "stream",
     "text": [
      "\n",
      "[notice] A new release of pip is available: 23.3.1 -> 23.3.2\n",
      "[notice] To update, run: python.exe -m pip install --upgrade pip\n"
     ]
    }
   ],
   "source": [
    "!pip install vaderSentiment"
   ]
  },
  {
   "cell_type": "code",
   "execution_count": 17,
   "metadata": {},
   "outputs": [
    {
     "data": {
      "text/html": [
       "<div>\n",
       "<style scoped>\n",
       "    .dataframe tbody tr th:only-of-type {\n",
       "        vertical-align: middle;\n",
       "    }\n",
       "\n",
       "    .dataframe tbody tr th {\n",
       "        vertical-align: top;\n",
       "    }\n",
       "\n",
       "    .dataframe thead th {\n",
       "        text-align: right;\n",
       "    }\n",
       "</style>\n",
       "<table border=\"1\" class=\"dataframe\">\n",
       "  <thead>\n",
       "    <tr style=\"text-align: right;\">\n",
       "      <th></th>\n",
       "      <th>reviews</th>\n",
       "      <th>stars</th>\n",
       "      <th>date</th>\n",
       "      <th>country</th>\n",
       "      <th>verified</th>\n",
       "      <th>corpus</th>\n",
       "      <th>POS tagged</th>\n",
       "      <th>Lemma</th>\n",
       "      <th>Sentiment</th>\n",
       "      <th>Analysis</th>\n",
       "    </tr>\n",
       "  </thead>\n",
       "  <tbody>\n",
       "    <tr>\n",
       "      <th>0</th>\n",
       "      <td>✅ Trip Verified | Not a great experience. I co...</td>\n",
       "      <td>5.0</td>\n",
       "      <td>2024-01-18</td>\n",
       "      <td>United Kingdom</td>\n",
       "      <td>True</td>\n",
       "      <td>great experience could check online two separa...</td>\n",
       "      <td>[(✅, a), (Trip, n), (Verified, n), (|, n), (gr...</td>\n",
       "      <td>✅ Trip Verified | great experience . could c...</td>\n",
       "      <td>0.9558</td>\n",
       "      <td>Positive</td>\n",
       "    </tr>\n",
       "    <tr>\n",
       "      <th>1</th>\n",
       "      <td>Not Verified | I was excited to fly BA as I'd ...</td>\n",
       "      <td>3.0</td>\n",
       "      <td>2024-01-18</td>\n",
       "      <td>United Kingdom</td>\n",
       "      <td>False</td>\n",
       "      <td>verified excited fly ba travelled long haul yr...</td>\n",
       "      <td>[(Verified, n), (|, n), (excited, v), (fly, v)...</td>\n",
       "      <td>Verified | excite fly BA 'd travel long haul...</td>\n",
       "      <td>0.7269</td>\n",
       "      <td>Positive</td>\n",
       "    </tr>\n",
       "    <tr>\n",
       "      <th>2</th>\n",
       "      <td>Not Verified |  I just want to warn everyone o...</td>\n",
       "      <td>2.0</td>\n",
       "      <td>2024-01-17</td>\n",
       "      <td>Germany</td>\n",
       "      <td>False</td>\n",
       "      <td>verified want warn everyone worst customer ser...</td>\n",
       "      <td>[(Verified, n), (|, n), (want, v), (warn, v), ...</td>\n",
       "      <td>Verified | want warn everyone bad customer s...</td>\n",
       "      <td>0.7012</td>\n",
       "      <td>Positive</td>\n",
       "    </tr>\n",
       "    <tr>\n",
       "      <th>3</th>\n",
       "      <td>Not Verified | Paid for business class travell...</td>\n",
       "      <td>1.0</td>\n",
       "      <td>2024-01-16</td>\n",
       "      <td>United Kingdom</td>\n",
       "      <td>False</td>\n",
       "      <td>verified paid business class travelling cairo ...</td>\n",
       "      <td>[(Verified, n), (|, n), (Paid, n), (business, ...</td>\n",
       "      <td>Verified | Paid business class travel Cairo ...</td>\n",
       "      <td>-0.8437</td>\n",
       "      <td>Negative</td>\n",
       "    </tr>\n",
       "    <tr>\n",
       "      <th>4</th>\n",
       "      <td>✅ Trip Verified |  The plane was extremely dir...</td>\n",
       "      <td>1.0</td>\n",
       "      <td>2024-01-15</td>\n",
       "      <td>Ireland</td>\n",
       "      <td>True</td>\n",
       "      <td>plane extremely dirty chocolate smudged mine c...</td>\n",
       "      <td>[(✅, a), (Trip, n), (Verified, n), (|, v), (pl...</td>\n",
       "      <td>✅ Trip Verified | plane extremely dirty choc...</td>\n",
       "      <td>-0.8588</td>\n",
       "      <td>Negative</td>\n",
       "    </tr>\n",
       "  </tbody>\n",
       "</table>\n",
       "</div>"
      ],
      "text/plain": [
       "                                             reviews  stars        date  \\\n",
       "0  ✅ Trip Verified | Not a great experience. I co...    5.0  2024-01-18   \n",
       "1  Not Verified | I was excited to fly BA as I'd ...    3.0  2024-01-18   \n",
       "2  Not Verified |  I just want to warn everyone o...    2.0  2024-01-17   \n",
       "3  Not Verified | Paid for business class travell...    1.0  2024-01-16   \n",
       "4  ✅ Trip Verified |  The plane was extremely dir...    1.0  2024-01-15   \n",
       "\n",
       "          country  verified  \\\n",
       "0  United Kingdom      True   \n",
       "1  United Kingdom     False   \n",
       "2         Germany     False   \n",
       "3  United Kingdom     False   \n",
       "4         Ireland      True   \n",
       "\n",
       "                                              corpus  \\\n",
       "0  great experience could check online two separa...   \n",
       "1  verified excited fly ba travelled long haul yr...   \n",
       "2  verified want warn everyone worst customer ser...   \n",
       "3  verified paid business class travelling cairo ...   \n",
       "4  plane extremely dirty chocolate smudged mine c...   \n",
       "\n",
       "                                          POS tagged  \\\n",
       "0  [(✅, a), (Trip, n), (Verified, n), (|, n), (gr...   \n",
       "1  [(Verified, n), (|, n), (excited, v), (fly, v)...   \n",
       "2  [(Verified, n), (|, n), (want, v), (warn, v), ...   \n",
       "3  [(Verified, n), (|, n), (Paid, n), (business, ...   \n",
       "4  [(✅, a), (Trip, n), (Verified, n), (|, v), (pl...   \n",
       "\n",
       "                                               Lemma  Sentiment  Analysis  \n",
       "0    ✅ Trip Verified | great experience . could c...     0.9558  Positive  \n",
       "1    Verified | excite fly BA 'd travel long haul...     0.7269  Positive  \n",
       "2    Verified | want warn everyone bad customer s...     0.7012  Positive  \n",
       "3    Verified | Paid business class travel Cairo ...    -0.8437  Negative  \n",
       "4    ✅ Trip Verified | plane extremely dirty choc...    -0.8588  Negative  "
      ]
     },
     "execution_count": 17,
     "metadata": {},
     "output_type": "execute_result"
    }
   ],
   "source": [
    "from vaderSentiment.vaderSentiment import SentimentIntensityAnalyzer\n",
    "analyzer = SentimentIntensityAnalyzer()\n",
    "\n",
    "# function to calculate vader sentiment\n",
    "def vadersentimentanalysis(review):\n",
    "    vs = analyzer.polarity_scores(review)\n",
    "    return vs['compound']\n",
    "\n",
    "df['Sentiment'] = df['Lemma'].apply(vadersentimentanalysis)\n",
    "\n",
    "# function to analyse\n",
    "def vader_analysis(compound):\n",
    "    if compound >= 0.5:\n",
    "        return 'Positive'\n",
    "    elif compound < 0 :\n",
    "        return 'Negative'\n",
    "    else:\n",
    "        return 'Neutral'\n",
    "df['Analysis'] = df['Sentiment'].apply(vader_analysis)\n",
    "df.head()\n",
    "\n"
   ]
  },
  {
   "cell_type": "code",
   "execution_count": 18,
   "metadata": {},
   "outputs": [
    {
     "data": {
      "text/plain": [
       "Analysis\n",
       "Positive    1975\n",
       "Negative    1151\n",
       "Neutral      369\n",
       "Name: count, dtype: int64"
      ]
     },
     "execution_count": 18,
     "metadata": {},
     "output_type": "execute_result"
    }
   ],
   "source": [
    "vader_counts = df['Analysis'].value_counts()\n",
    "vader_counts"
   ]
  },
  {
   "cell_type": "markdown",
   "metadata": {},
   "source": [
    "### Visual representation"
   ]
  },
  {
   "cell_type": "code",
   "execution_count": 21,
   "metadata": {},
   "outputs": [
    {
     "data": {
      "image/png": "[encoded data removed]",
      "text/plain": [
       "<Figure size 1500x700 with 1 Axes>"
      ]
     },
     "metadata": {},
     "output_type": "display_data"
    }
   ],
   "source": [
    "plt.figure(figsize=(15,7))\n",
    "plt.subplot(1,3,2)\n",
    "plt.title('reviews Analysis')\n",
    "plt.pie(vader_counts.values, labels= vader_counts.index, explode=(0, 0, 0.25), autopct='%1.1f%%', shadow=False)\n",
    "plt.show()\n"
   ]
  },
  {
   "cell_type": "code",
   "execution_count": null,
   "metadata": {},
   "outputs": [],
   "source": []
  }
 ],
 "metadata": {
  "kernelspec": {
   "display_name": "Python 3",
   "language": "python",
   "name": "python3"
  },
  "language_info": {
   "codemirror_mode": {
    "name": "ipython",
    "version": 3
   },
   "file_extension": ".py",
   "mimetype": "text/x-python",
   "name": "python",
   "nbconvert_exporter": "python",
   "pygments_lexer": "ipython3",
   "version": "3.11.1"
  }
 },
 "nbformat": 4,
 "nbformat_minor": 2
}
